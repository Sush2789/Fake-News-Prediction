{
  "nbformat": 4,
  "nbformat_minor": 0,
  "metadata": {
    "colab": {
      "provenance": []
    },
    "kernelspec": {
      "name": "python3",
      "display_name": "Python 3"
    },
    "language_info": {
      "name": "python"
    }
  },
  "cells": [
    {
      "cell_type": "code",
      "execution_count": null,
      "metadata": {
        "id": "_2FnohXBOdMo"
      },
      "outputs": [],
      "source": [
        "import numpy as np\n",
        "import seaborn as sns\n",
        "import matplotlib.pyplot as plt\n",
        "import pandas as pd \n",
        "from sklearn.model_selection import train_test_split\n",
        "from sklearn.linear_model import LogisticRegression\n",
        "from sklearn.tree import DecisionTreeClassifier\n",
        "from sklearn.metrics import classification_report\n",
        "from sklearn.metrics import confusion_matrix\n",
        "from sklearn.metrics import accuracy_score\n",
        "from scipy.sparse import hstack\n",
        "from sklearn.feature_extraction.text import CountVectorizer\n",
        "from sklearn.model_selection import train_test_split\n",
        "\n",
        "import warnings\n",
        "warnings.filterwarnings(\"ignore\")\n",
        "\n",
        "%matplotlib inline "
      ]
    },
    {
      "cell_type": "code",
      "source": [
        "true_news_df = pd.read_csv('True.csv')\n",
        "fake_news_df = pd.read_csv('Fake.csv')"
      ],
      "metadata": {
        "id": "NNKqF8LnOjac"
      },
      "execution_count": null,
      "outputs": []
    },
    {
      "cell_type": "code",
      "source": [
        "true_news_df.head()\n"
      ],
      "metadata": {
        "id": "axU8YEQdOlIY"
      },
      "execution_count": null,
      "outputs": []
    },
    {
      "cell_type": "code",
      "source": [
        "fake_news_df.tail()\n"
      ],
      "metadata": {
        "id": "uJlloVCiOmdG"
      },
      "execution_count": null,
      "outputs": []
    },
    {
      "cell_type": "code",
      "source": [
        "true_news_df['subject'].value_counts()\n"
      ],
      "metadata": {
        "id": "e19xpnh7Ookk"
      },
      "execution_count": null,
      "outputs": []
    },
    {
      "cell_type": "code",
      "source": [
        "sns.countplot(data = true_news_df, y = 'subject')\n",
        "plt.show()\n"
      ],
      "metadata": {
        "id": "46k-PmUyOp8q"
      },
      "execution_count": null,
      "outputs": []
    },
    {
      "cell_type": "code",
      "source": [
        "sns.countplot(data = fake_news_df, y = 'subject', \n",
        "              order = fake_news_df['subject'].value_counts().index)\n",
        "plt.show()"
      ],
      "metadata": {
        "id": "3ISWI63zOrxp"
      },
      "execution_count": null,
      "outputs": []
    },
    {
      "cell_type": "code",
      "source": [
        "true_news_df.head()\n"
      ],
      "metadata": {
        "id": "-y3uIfQcOvDq"
      },
      "execution_count": null,
      "outputs": []
    },
    {
      "cell_type": "code",
      "source": [
        "true_news_df['is_fake'] = 0\n",
        "fake_news_df['is_fake'] = 1\n",
        "df_final = pd.concat([true_news_df, fake_news_df]).reset_index(drop = True)\n"
      ],
      "metadata": {
        "id": "ylfcwJVJOvt0"
      },
      "execution_count": null,
      "outputs": []
    },
    {
      "cell_type": "code",
      "source": [
        "df_final.head()\n"
      ],
      "metadata": {
        "id": "I1qmV9z8OyCq"
      },
      "execution_count": null,
      "outputs": []
    },
    {
      "cell_type": "code",
      "source": [
        "sns.countplot(data = df_final, x = 'is_fake', palette = 'viridis')\n",
        "plt.show()\n"
      ],
      "metadata": {
        "id": "R_4XRCDxOzNd"
      },
      "execution_count": null,
      "outputs": []
    },
    {
      "cell_type": "code",
      "source": [
        "df_final.head()\n"
      ],
      "metadata": {
        "id": "zUnxulVTO1NZ"
      },
      "execution_count": null,
      "outputs": []
    },
    {
      "cell_type": "code",
      "source": [
        "df_final.drop(['date'], axis = 1, inplace = True)\n"
      ],
      "metadata": {
        "id": "I3q9Tu-BO2r9"
      },
      "execution_count": null,
      "outputs": []
    },
    {
      "cell_type": "code",
      "source": [
        "df_final.head()\n"
      ],
      "metadata": {
        "id": "h557UBEnO4HI"
      },
      "execution_count": null,
      "outputs": []
    },
    {
      "cell_type": "code",
      "source": [
        "import nltk\n",
        "nltk.download('stopwords')\n",
        "from nltk.corpus import stopwords\n",
        "from nltk.stem import WordNetLemmatizer\n",
        "\n"
      ],
      "metadata": {
        "id": "_1xgu6tKO5R8"
      },
      "execution_count": null,
      "outputs": []
    },
    {
      "cell_type": "code",
      "source": [
        "english_stopwords = stopwords.words('english')\n"
      ],
      "metadata": {
        "id": "5f2rEbcZO7Hc"
      },
      "execution_count": null,
      "outputs": []
    },
    {
      "cell_type": "code",
      "source": [
        "english_stopwords[0: 10]\n"
      ],
      "metadata": {
        "id": "oQgxrH_YPALG"
      },
      "execution_count": null,
      "outputs": []
    },
    {
      "cell_type": "code",
      "source": [
        "import string\n",
        "import wordcloud\n",
        "import missingno as msno\n",
        "\n"
      ],
      "metadata": {
        "id": "IhSSwNQ4PB7E"
      },
      "execution_count": null,
      "outputs": []
    },
    {
      "cell_type": "code",
      "source": [
        "msno.matrix(df_final, color = (0.5, 0.5, 0.6))\n",
        "plt.show()\n"
      ],
      "metadata": {
        "id": "PcVF2uEUPEWZ"
      },
      "execution_count": null,
      "outputs": []
    },
    {
      "cell_type": "code",
      "source": [
        "df_final.info()\n"
      ],
      "metadata": {
        "id": "0ev5n3UKPHit"
      },
      "execution_count": null,
      "outputs": []
    },
    {
      "cell_type": "code",
      "source": [
        "df_final.head()\n"
      ],
      "metadata": {
        "id": "jP6z7uGoPIU9"
      },
      "execution_count": null,
      "outputs": []
    },
    {
      "cell_type": "code",
      "source": [
        "wordcloud.WordCloud()\n"
      ],
      "metadata": {
        "id": "FAyYYffHPJ1Y"
      },
      "execution_count": null,
      "outputs": []
    },
    {
      "cell_type": "code",
      "source": [
        "def text_preprocessor(text):\n",
        "    \n",
        "    text_preprocessed = []\n",
        "    text = text.translate(str.maketrans('', '', string.punctuation)) # Removes punctuations\n",
        "    for word in text.split(' '): # Splits the text into words\n",
        "        # print(word)\n",
        "        word = word.lower()\n",
        "        lemmatizer = WordNetLemmatizer()\n",
        "        word = lemmatizer.lemmatize(word)\n",
        "        if word not in english_stopwords:\n",
        "            text_preprocessed.append(word)\n",
        "    text_preprocessed = ' '.join(text_preprocessed)\n",
        "    return text_preprocessed\n"
      ],
      "metadata": {
        "id": "KqMpwp0nPMip"
      },
      "execution_count": null,
      "outputs": []
    },
    {
      "cell_type": "code",
      "source": [
        "df_final.head()\n"
      ],
      "metadata": {
        "id": "yu8BQdStPNiv"
      },
      "execution_count": null,
      "outputs": []
    },
    {
      "cell_type": "code",
      "source": [
        "df_final['title preprocessed'] = df_final['title'].apply(text_preprocessor)\n"
      ],
      "metadata": {
        "id": "WfigBZMUPPxw"
      },
      "execution_count": null,
      "outputs": []
    },
    {
      "cell_type": "code",
      "source": [
        "df_final.head()\n"
      ],
      "metadata": {
        "id": "VcW1AEHcPSkA"
      },
      "execution_count": null,
      "outputs": []
    },
    {
      "cell_type": "code",
      "source": [
        "df_final['text preprocessed'] = df_final['text'].apply(text_preprocessor)\n"
      ],
      "metadata": {
        "id": "lQ793El9PT_-"
      },
      "execution_count": null,
      "outputs": []
    },
    {
      "cell_type": "code",
      "source": [
        "df_final.head()\n"
      ],
      "metadata": {
        "id": "roxr0rl6PVdA"
      },
      "execution_count": null,
      "outputs": []
    },
    {
      "cell_type": "code",
      "source": [
        "df_final.drop(['title', 'text'], axis = 1, inplace = True)\n"
      ],
      "metadata": {
        "id": "s9gwmBcKPYPi"
      },
      "execution_count": null,
      "outputs": []
    },
    {
      "cell_type": "code",
      "source": [
        "df_final.head()\n"
      ],
      "metadata": {
        "id": "2QOag-8UPZtT"
      },
      "execution_count": null,
      "outputs": []
    },
    {
      "cell_type": "code",
      "source": [
        "fake_news = df_final[df_final.is_fake == 1]['title preprocessed']\n",
        "true_news = df_final[df_final.is_fake == 0]['title preprocessed']\n"
      ],
      "metadata": {
        "id": "8h3tERDVPcg1"
      },
      "execution_count": null,
      "outputs": []
    },
    {
      "cell_type": "code",
      "source": [
        "fake_news_title = ''.join(fake_news.to_list())\n",
        "true_news_title = ''.join(true_news.to_list())\n"
      ],
      "metadata": {
        "id": "UY4L8MwAPdKg"
      },
      "execution_count": null,
      "outputs": []
    },
    {
      "cell_type": "code",
      "source": [
        "# Fake News Titles\n",
        "word_cloud = wordcloud.WordCloud().generate(fake_news_title)\n",
        "plt.imshow(word_cloud, interpolation = 'bilinear')\n",
        "plt.show()\n"
      ],
      "metadata": {
        "id": "CMJb75zePepG"
      },
      "execution_count": null,
      "outputs": []
    },
    {
      "cell_type": "code",
      "source": [
        "# True News Titles\n",
        "word_cloud = wordcloud.WordCloud().generate(true_news_title)\n",
        "plt.imshow(word_cloud, interpolation = 'bilinear')\n",
        "plt.show()"
      ],
      "metadata": {
        "id": "wO5d3v-oPhh2"
      },
      "execution_count": null,
      "outputs": []
    },
    {
      "cell_type": "code",
      "source": [
        "#encoding\n",
        "X = df_final.drop(['is_fake'], axis = 1)\n",
        "y = df_final['is_fake']"
      ],
      "metadata": {
        "id": "KoCkWQDbPiR1"
      },
      "execution_count": null,
      "outputs": []
    },
    {
      "cell_type": "code",
      "source": [
        "X_train, X_test, y_train, y_test = train_test_split(X, y, test_size = 0.3, random_state = 101)\n"
      ],
      "metadata": {
        "id": "4dZEKGiXPmlc"
      },
      "execution_count": null,
      "outputs": []
    },
    {
      "cell_type": "code",
      "source": [
        "print(\"The shape of training input data: {}\".format(X_train.shape))\n",
        "print(\"The shape of testing input data: {}\".format(X_test.shape))\n",
        "print(\"The shape of training output data: {}\".format(y_train.shape))\n",
        "print(\"The shape of testing output data: {}\".format(y_test.shape))"
      ],
      "metadata": {
        "id": "iBckrypIPn9A"
      },
      "execution_count": null,
      "outputs": []
    },
    {
      "cell_type": "code",
      "source": [
        "X_train.head()\n"
      ],
      "metadata": {
        "id": "uuBCNmMEPpp7"
      },
      "execution_count": null,
      "outputs": []
    },
    {
      "cell_type": "code",
      "source": [
        "vectorizer = CountVectorizer()\n",
        "title_train_bow = vectorizer.fit_transform(X_train['title preprocessed'])\n",
        "title_test_bow = vectorizer.transform(X_test['title preprocessed'])\n",
        "\n",
        "text_train_bow = vectorizer.fit_transform(X_train['text preprocessed'])\n",
        "text_test_bow = vectorizer.transform(X_test['text preprocessed'])"
      ],
      "metadata": {
        "id": "54Gs3bjtPrWE"
      },
      "execution_count": null,
      "outputs": []
    },
    {
      "cell_type": "code",
      "source": [
        "X_train_transformed = hstack((title_train_bow, text_train_bow))\n",
        "X_test_transformed = hstack((title_test_bow, text_test_bow))"
      ],
      "metadata": {
        "id": "TFeygk48Ps1r"
      },
      "execution_count": null,
      "outputs": []
    },
    {
      "cell_type": "markdown",
      "source": [
        "Logistic Regression\n"
      ],
      "metadata": {
        "id": "Xi1dRpGTPuZd"
      }
    },
    {
      "cell_type": "code",
      "source": [
        "model = LogisticRegression()\n",
        "model.fit(X_train_transformed, y_train)\n",
        "y_predictions = model.predict(X_test_transformed)"
      ],
      "metadata": {
        "id": "wQpJcQRlPwiA"
      },
      "execution_count": null,
      "outputs": []
    },
    {
      "cell_type": "code",
      "source": [
        "y_predictions\n"
      ],
      "metadata": {
        "id": "k0fL3LZWPx9M"
      },
      "execution_count": null,
      "outputs": []
    },
    {
      "cell_type": "code",
      "source": [
        "accuracy_score(y_predictions, y_test)\n"
      ],
      "metadata": {
        "id": "S6R6grBrPzNu"
      },
      "execution_count": null,
      "outputs": []
    },
    {
      "cell_type": "code",
      "source": [
        "#K Neighbors Classifier\n"
      ],
      "metadata": {
        "id": "F8QFVw4zP0ew"
      },
      "execution_count": null,
      "outputs": []
    },
    {
      "cell_type": "code",
      "source": [
        "from sklearn.neighbors import KNeighborsClassifier\n",
        "model = KNeighborsClassifier()\n",
        "model.fit(X_train_transformed, y_train)\n",
        "y_predictions = model.predict(X_test_transformed)\n"
      ],
      "metadata": {
        "id": "mnXCtUViP4E1"
      },
      "execution_count": null,
      "outputs": []
    },
    {
      "cell_type": "code",
      "source": [
        "print(accuracy_score(y_predictions, y_test))\n",
        "print(confusion_matrix(y_predictions, y_test))\n",
        "print(classification_report(y_predictions, y_test))"
      ],
      "metadata": {
        "id": "w1rUIe4mP69R"
      },
      "execution_count": null,
      "outputs": []
    },
    {
      "cell_type": "code",
      "source": [
        "#Gradient Boosting Classifier\n",
        "from sklearn.ensemble import GradientBoostingClassifier\n",
        "model = GradientBoostingClassifier()\n",
        "model.fit(X_train_transformed, y_train)\n",
        "y_predictions = model.predict(X_test_transformed)\n",
        "print(accuracy_score(y_predictions, y_test))\n",
        "print(confusion_matrix(y_predictions, y_test))\n",
        "print(classification_report(y_predictions, y_test))\n"
      ],
      "metadata": {
        "id": "E-i7YEH_P9dV"
      },
      "execution_count": null,
      "outputs": []
    },
    {
      "cell_type": "code",
      "source": [
        "#Decision Tree Classifier\n",
        "model = DecisionTreeClassifier()\n",
        "model.fit(X_train_transformed, y_train)\n",
        "y_predictions = model.predict(X_test_transformed)\n",
        "print(accuracy_score(y_predictions, y_test))\n",
        "print(confusion_matrix(y_predictions, y_test))\n",
        "print(classification_report(y_predictions, y_test))\n"
      ],
      "metadata": {
        "id": "y44EhDYxQDdY"
      },
      "execution_count": null,
      "outputs": []
    },
    {
      "cell_type": "code",
      "source": [
        "#Random Forest Classifier\n",
        "from sklearn.ensemble import RandomForestClassifier\n",
        "model = RandomForestClassifier()\n",
        "model.fit(X_train_transformed, y_train)\n",
        "y_predictions = model.predict(X_test_transformed)\n",
        "print(accuracy_score(y_predictions, y_test))\n",
        "print(confusion_matrix(y_predictions, y_test))\n",
        "print(classification_report(y_predictions, y_test))\n"
      ],
      "metadata": {
        "id": "TKLF5sUwQKP_"
      },
      "execution_count": null,
      "outputs": []
    },
    {
      "cell_type": "code",
      "source": [
        "#TFIDF Vectorizer\n",
        "from sklearn.feature_extraction.text import TfidfVectorizer\n",
        "vectorizer = TfidfVectorizer()\n",
        "title_train_tfidf = vectorizer.fit_transform(X_train['title preprocessed'])\n",
        "title_test_tfidf = vectorizer.transform(X_test['title preprocessed'])\n",
        "\n",
        "text_train_tfidf = vectorizer.fit_transform(X_train['text preprocessed'])\n",
        "text_test_tfidf = vectorizer.transform(X_test['text preprocessed'])\n"
      ],
      "metadata": {
        "id": "cUhGTscTQRpb"
      },
      "execution_count": null,
      "outputs": []
    },
    {
      "cell_type": "code",
      "source": [
        "X_train_transformed = hstack((title_train_tfidf, text_train_tfidf))\n",
        "X_test_transformed = hstack((title_test_tfidf, text_test_tfidf))\n"
      ],
      "metadata": {
        "id": "ynEBytWqQWFb"
      },
      "execution_count": null,
      "outputs": []
    },
    {
      "cell_type": "code",
      "source": [
        "#Word2Vec Vectorizer\n",
        "import gensim\n",
        "from gensim.models import Word2Vec\n",
        "\n",
        "train_title = [text.split(' ') for text in X_train['title preprocessed']]\n",
        "test_title = [text.split(' ') for text in X_test['title preprocessed']]\n"
      ],
      "metadata": {
        "id": "T2Zu0uh2QXdg"
      },
      "execution_count": null,
      "outputs": []
    },
    {
      "cell_type": "code",
      "source": [
        "word2vec = Word2Vec(train_title, min_count = 2)\n"
      ],
      "metadata": {
        "id": "wBTw1OtkQdSp"
      },
      "execution_count": null,
      "outputs": []
    },
    {
      "cell_type": "code",
      "source": [
        "word2vec.wv.similarity('trump', 'hillary')\n"
      ],
      "metadata": {
        "id": "igq8gU4UQehk"
      },
      "execution_count": null,
      "outputs": []
    },
    {
      "cell_type": "code",
      "source": [
        "word2vec.wv.similarity('apple', 'email')\n"
      ],
      "metadata": {
        "id": "YauQtVbtQf4V"
      },
      "execution_count": null,
      "outputs": []
    },
    {
      "cell_type": "code",
      "source": [
        "word2vec.wv.most_similar('trump')\n"
      ],
      "metadata": {
        "id": "986jxDGJQhWH"
      },
      "execution_count": null,
      "outputs": []
    },
    {
      "cell_type": "code",
      "source": [
        "word2vec.wv.most_similar('laptop')\n"
      ],
      "metadata": {
        "id": "oj5CXI0-Qi7f"
      },
      "execution_count": null,
      "outputs": []
    },
    {
      "cell_type": "code",
      "source": [
        "train_title[0]\n"
      ],
      "metadata": {
        "id": "c5wsejWqQlPg"
      },
      "execution_count": null,
      "outputs": []
    },
    {
      "cell_type": "code",
      "source": [
        "avgword2vec_train = []\n",
        "for i in range(len(train_title)):\n",
        "    word2vec_sum = 0\n",
        "    for j in range(len(train_title[i])):\n",
        "        try: \n",
        "            word2vec_sum = word2vec_sum + word2vec.wv.word_vec(train_title[i][j])           \n",
        "        except KeyError:\n",
        "            continue\n",
        "    avg_word2vec = word2vec_sum / (j + 1)\n",
        "    avgword2vec_train.append(avg_word2vec)"
      ],
      "metadata": {
        "id": "aXwQFrrwQl3n"
      },
      "execution_count": null,
      "outputs": []
    },
    {
      "cell_type": "code",
      "source": [
        "avgword2vec_df_train = pd.DataFrame()\n",
        "avgword2vec_df_test = pd.DataFrame()"
      ],
      "metadata": {
        "id": "338zUp8rQnyX"
      },
      "execution_count": null,
      "outputs": []
    },
    {
      "cell_type": "code",
      "source": [
        "from tqdm import tqdm \n",
        "y_train.reset_index(drop = True, inplace = True)\n",
        "y_test.reset_index(drop = True, inplace = True)\n",
        "\n"
      ],
      "metadata": {
        "id": "Jagrm6bzQpeQ"
      },
      "execution_count": null,
      "outputs": []
    },
    {
      "cell_type": "code",
      "source": [
        "# This file can take about 5 minutes to run the code cell \n",
        "\n",
        "y_train_transformed = []\n",
        "for i in tqdm(range(len(avgword2vec_train))):\n",
        "    try:\n",
        "        avgword2vec_df_train = avgword2vec_df_train.append(pd.DataFrame(avgword2vec_train[i]).T)\n",
        "        y_train_transformed.append(y_train[i])\n",
        "    except ValueError:\n",
        "        continue"
      ],
      "metadata": {
        "id": "z1t86fbYQsT1"
      },
      "execution_count": null,
      "outputs": []
    },
    {
      "cell_type": "code",
      "source": [
        "avgword2vec_test = []\n",
        "for i in range(len(test_title)):\n",
        "    word2vec_sum = 0\n",
        "    for j in range(len(test_title[i])):\n",
        "        try: \n",
        "            word2vec_sum = word2vec_sum + word2vec.wv.word_vec(test_title[i][j])\n",
        "        except KeyError: \n",
        "            continue\n",
        "    avg_word2vec = word2vec_sum / (j + 1)\n",
        "    avgword2vec_test.append(avg_word2vec)"
      ],
      "metadata": {
        "id": "fA-e2SzNQuDH"
      },
      "execution_count": null,
      "outputs": []
    },
    {
      "cell_type": "code",
      "source": [
        "# This file can take about 5 minutes to run the code cell \n",
        "\n",
        "y_test_transformed = []\n",
        "for i in tqdm(range(len(avgword2vec_test))):\n",
        "    try:\n",
        "        avgword2vec_df_test = avgword2vec_df_test.append(pd.DataFrame(avgword2vec_test[i]).T)\n",
        "        y_test_transformed.append(y_test[i])\n",
        "    except ValueError:\n",
        "        continue"
      ],
      "metadata": {
        "id": "ti5ZqrAHQv0N"
      },
      "execution_count": null,
      "outputs": []
    },
    {
      "cell_type": "code",
      "source": [
        "\n",
        "model = LogisticRegression()\n",
        "model.fit(avgword2vec_df_train, y_train_transformed)\n",
        "y_predictions = model.predict(avgword2vec_df_test)"
      ],
      "metadata": {
        "id": "dLXgqNTDQxSv"
      },
      "execution_count": null,
      "outputs": []
    },
    {
      "cell_type": "code",
      "source": [
        "y_predictions\n"
      ],
      "metadata": {
        "id": "yvLlViJLQywE"
      },
      "execution_count": null,
      "outputs": []
    },
    {
      "cell_type": "code",
      "source": [
        "accuracy_score(y_predictions, y_test_transformed)\n"
      ],
      "metadata": {
        "id": "T6_IQySRQ01d"
      },
      "execution_count": null,
      "outputs": []
    },
    {
      "cell_type": "code",
      "source": [
        "print(classification_report(y_predictions, y_test_transformed))\n",
        "df_final.head()\n"
      ],
      "metadata": {
        "id": "UJuV-wy8Q2LE"
      },
      "execution_count": null,
      "outputs": []
    },
    {
      "cell_type": "code",
      "source": [
        "X_train, X_test, y_train, y_test = train_test_split(X, y, random_state = 101, test_size = 0.3)\n"
      ],
      "metadata": {
        "id": "FjDD2YkLQ4IR"
      },
      "execution_count": null,
      "outputs": []
    },
    {
      "cell_type": "code",
      "source": [
        "X_train.shape\n"
      ],
      "metadata": {
        "id": "PveneeLtQ2Me"
      },
      "execution_count": null,
      "outputs": []
    },
    {
      "cell_type": "code",
      "source": [
        "#Embedding Representation\n",
        "\n",
        "from tensorflow.keras.layers import Embedding\n",
        "from tensorflow.keras.preprocessing.sequence import pad_sequences\n",
        "from tensorflow.keras.preprocessing.text import one_hot\n",
        "from tensorflow.keras.layers import LSTM\n",
        "from tensorflow.keras.layers import Dense"
      ],
      "metadata": {
        "id": "cV_PtpMhQ9lI"
      },
      "execution_count": null,
      "outputs": []
    },
    {
      "cell_type": "code",
      "source": [
        "X_train.head()\n"
      ],
      "metadata": {
        "id": "NQhvKaolRAFa"
      },
      "execution_count": null,
      "outputs": []
    },
    {
      "cell_type": "code",
      "source": [
        "text_train = X_train['text preprocessed'].tolist()\n",
        "text_test = X_test['text preprocessed'].tolist()"
      ],
      "metadata": {
        "id": "aql1035JRD3L"
      },
      "execution_count": null,
      "outputs": []
    },
    {
      "cell_type": "code",
      "source": [
        "vocab_size = 5000\n"
      ],
      "metadata": {
        "id": "SmT8ZpNjRFkm"
      },
      "execution_count": null,
      "outputs": []
    },
    {
      "cell_type": "code",
      "source": [
        "text_train_one_hot = [one_hot(words, vocab_size) for words in text_train]\n",
        "text_test_one_hot = [one_hot(words, vocab_size) for words in text_test]"
      ],
      "metadata": {
        "id": "YxpVz-yORG7n"
      },
      "execution_count": null,
      "outputs": []
    },
    {
      "cell_type": "code",
      "source": [
        "text_train_one_hot[0][0: 10]\n"
      ],
      "metadata": {
        "id": "xdZAPM1KRIZ-"
      },
      "execution_count": null,
      "outputs": []
    },
    {
      "cell_type": "code",
      "source": [
        "sent_length = 1000\n",
        "embedded_docs = pad_sequences(text_train_one_hot, padding = 'post', maxlen = sent_length)\n",
        "print(embedded_docs)"
      ],
      "metadata": {
        "id": "z5Qkh-ehRJxx"
      },
      "execution_count": null,
      "outputs": []
    },
    {
      "cell_type": "code",
      "source": [
        "len(embedded_docs)\n"
      ],
      "metadata": {
        "id": "FlT9EutBRLX-"
      },
      "execution_count": null,
      "outputs": []
    },
    {
      "cell_type": "code",
      "source": [
        "len(embedded_docs[0])\n"
      ],
      "metadata": {
        "id": "PA30eHqRRM1_"
      },
      "execution_count": null,
      "outputs": []
    },
    {
      "cell_type": "code",
      "source": [
        "embedding_vector_features = 100\n"
      ],
      "metadata": {
        "id": "vfDe2x9IROQJ"
      },
      "execution_count": null,
      "outputs": []
    },
    {
      "cell_type": "code",
      "source": [
        "y_train.shape\n"
      ],
      "metadata": {
        "id": "H_DDcOiSRPtr"
      },
      "execution_count": null,
      "outputs": []
    },
    {
      "cell_type": "code",
      "source": [
        "X_train.shape\n"
      ],
      "metadata": {
        "id": "_YcpHfgyRQ8V"
      },
      "execution_count": null,
      "outputs": []
    },
    {
      "cell_type": "code",
      "source": [
        "#Recurrent Neural Network (RNN)\n",
        "\n",
        "from tensorflow.keras.preprocessing.text import one_hot\n",
        "from tensorflow.keras.preprocessing.sequence import pad_sequences\n",
        "from tensorflow.keras.models import Sequential\n",
        "from tensorflow.keras.layers import Dropout\n",
        "import tensorflow as tf\n",
        "from tensorflow.keras.layers import SimpleRNN"
      ],
      "metadata": {
        "id": "pFqkNGBJRSPf"
      },
      "execution_count": null,
      "outputs": []
    },
    {
      "cell_type": "code",
      "source": [
        "embedding_vector_features = 100\n"
      ],
      "metadata": {
        "id": "00r7zq0YRYjZ"
      },
      "execution_count": null,
      "outputs": []
    },
    {
      "cell_type": "code",
      "source": [
        "model = Sequential()\n",
        "\n",
        "model.add(Embedding(vocab_size, embedding_vector_features, input_length = sent_length))\n",
        "model.add(SimpleRNN(128, activation = 'relu', return_sequences = True))\n",
        "model.add(Dropout(0.2))\n",
        "\n",
        "model.add(SimpleRNN(64, activation = 'relu', return_sequences = True))\n",
        "model.add(Dropout(0.2))\n",
        "\n",
        "model.add(SimpleRNN(32, activation = 'relu', return_sequences = True))\n",
        "model.add(Dropout(0.2))\n",
        "\n",
        "model.add(Dense(16, activation = 'relu'))\n",
        "model.add(Dropout(0.1))\n",
        "\n",
        "model.add(Dense(1, activation = 'sigmoid'))\n",
        "print(model.summary())"
      ],
      "metadata": {
        "id": "_x5StjPKRZyD"
      },
      "execution_count": null,
      "outputs": []
    },
    {
      "cell_type": "code",
      "source": [
        "opt = tf.keras.optimizers.Adam(learning_rate = 1e-3, epsilon = 1e-07)\n"
      ],
      "metadata": {
        "id": "XYKcmwUXRbb4"
      },
      "execution_count": null,
      "outputs": []
    },
    {
      "cell_type": "code",
      "source": [
        "model.compile(optimizer = opt, loss = 'BinaryCrossentropy',\n",
        "             metrics = ['accuracy'])"
      ],
      "metadata": {
        "id": "YcvrRgcZRdN9"
      },
      "execution_count": null,
      "outputs": []
    },
    {
      "cell_type": "code",
      "source": [
        "X_train_embedded = np.array(embedded_docs).astype('float32')\n",
        "y_train_new = np.array(y_train).astype('float32').reshape((-1, 1))"
      ],
      "metadata": {
        "id": "W_mUkxU8Reqt"
      },
      "execution_count": null,
      "outputs": []
    },
    {
      "cell_type": "code",
      "source": [
        "X_train_embedded.shape\n"
      ],
      "metadata": {
        "id": "0nOPke1dRgPT"
      },
      "execution_count": null,
      "outputs": []
    },
    {
      "cell_type": "code",
      "source": [
        "y_train_new.shape\n"
      ],
      "metadata": {
        "id": "049e0NzKRhjO"
      },
      "execution_count": null,
      "outputs": []
    },
    {
      "cell_type": "code",
      "source": [
        "import tensorflow as tf\n"
      ],
      "metadata": {
        "id": "7iTmNe-tRipR"
      },
      "execution_count": null,
      "outputs": []
    },
    {
      "cell_type": "code",
      "source": [
        "tf.config.list_physical_devices('CPU')\n"
      ],
      "metadata": {
        "id": "6X3j7EOHRj81"
      },
      "execution_count": null,
      "outputs": []
    },
    {
      "cell_type": "code",
      "source": [
        "tf.config.list_physical_devices('GPU')\n"
      ],
      "metadata": {
        "id": "kBwQw0uQRkEe"
      },
      "execution_count": null,
      "outputs": []
    },
    {
      "cell_type": "code",
      "source": [
        "model.fit(X_train_embedded, y_train_new, epochs = 2)\n"
      ],
      "metadata": {
        "id": "uee5eyanRoM9"
      },
      "execution_count": null,
      "outputs": []
    },
    {
      "cell_type": "code",
      "source": [
        "print(tf.__version__)\n"
      ],
      "metadata": {
        "id": "awGcI1faRo98"
      },
      "execution_count": null,
      "outputs": []
    },
    {
      "cell_type": "code",
      "source": [
        "#Gated Recurrent Units (GRU)\n",
        "from tensorflow.keras.layers import GRU\n",
        "\n",
        "model = Sequential()\n",
        "\n",
        "model.add(GRU(128, input_shape = (avgword2vec_df_train.shape[1], 1),\n",
        "         activation = 'relu', return_sequences = True))\n",
        "model.add(Dropout(0.2))\n",
        "\n",
        "model.add(GRU(64, activation = 'relu', return_sequences = True))\n",
        "model.add(Dropout(0.2))\n",
        "\n",
        "model.add(GRU(32, activation = 'relu', return_sequences = True))\n",
        "model.add(Dropout(0.1))\n",
        "\n",
        "model.add(Dense(8, activation = 'relu'))\n",
        "model.add(Dropout(0.1))\n",
        "\n",
        "model.add(Dense(1, activation = 'sigmoid'))\n"
      ],
      "metadata": {
        "id": "d_h3DB8ARr5C"
      },
      "execution_count": null,
      "outputs": []
    },
    {
      "cell_type": "code",
      "source": [
        "opt = tf.keras.optimizers.Adam(learning_rate = 1e-3, epsilon = 1e-07)\n"
      ],
      "metadata": {
        "id": "FuXdp6cXRxrA"
      },
      "execution_count": null,
      "outputs": []
    },
    {
      "cell_type": "code",
      "source": [
        "model.compile(optimizer = opt, loss = 'BinaryCrossentropy',\n",
        "             metrics = ['accuracy'])"
      ],
      "metadata": {
        "id": "J8_yUvlXRy5c"
      },
      "execution_count": null,
      "outputs": []
    },
    {
      "cell_type": "code",
      "source": [
        "model.fit(X_train, y_train_new, epochs = 2)\n"
      ],
      "metadata": {
        "id": "OZOOPUjmR0P9"
      },
      "execution_count": null,
      "outputs": []
    },
    {
      "cell_type": "code",
      "source": [
        "#Long Short Term Memory (LSTM)\n",
        "\n",
        "import tensorflow as tf\n",
        "from tensorflow.keras.layers import Dense, LSTM, Dropout\n",
        "from tensorflow.keras.models import Sequential\n"
      ],
      "metadata": {
        "id": "UMQgS3MKR1jn"
      },
      "execution_count": null,
      "outputs": []
    },
    {
      "cell_type": "code",
      "source": [
        "model = Sequential()\n",
        "\n",
        "model.add(LSTM(128, input_shape = (avgword2vec_df_train.shape[1], 1), activation = 'relu',\n",
        "               return_sequences = True))\n",
        "model.add(Dropout(0.2))\n",
        "\n",
        "model.add(LSTM(128, activation = 'relu', return_sequences = True))\n",
        "model.add(Dropout(0.2))\n",
        "\n",
        "model.add(LSTM(64, activation = 'relu', return_sequences = True))\n",
        "model.add(Dropout(0.2))\n",
        "\n",
        "model.add(LSTM(32, activation = 'relu', return_sequences = True))\n",
        "model.add(Dropout(0.2))\n",
        "\n",
        "model.add(Dense(16, activation = 'relu'))\n",
        "model.add(Dropout(0.1))\n",
        "\n",
        "model.add(Dense(1, activation = 'sigmoid'))"
      ],
      "metadata": {
        "id": "mz9zkglvR5-I"
      },
      "execution_count": null,
      "outputs": []
    },
    {
      "cell_type": "code",
      "source": [
        "opt = tf.keras.optimizers.Adam(learning_rate = 1e-3, epsilon = 1e-07)\n"
      ],
      "metadata": {
        "id": "QmXeuIw8R72t"
      },
      "execution_count": null,
      "outputs": []
    },
    {
      "cell_type": "code",
      "source": [
        "model.compile(optimizer = opt, loss = 'BinaryCrossentropy',\n",
        "             metrics = ['accuracy'])"
      ],
      "metadata": {
        "id": "gOJ8k_4QR9W0"
      },
      "execution_count": null,
      "outputs": []
    },
    {
      "cell_type": "code",
      "source": [
        "avgword2vec_df_train.head()"
      ],
      "metadata": {
        "id": "s7S0I4xdR-ke"
      },
      "execution_count": null,
      "outputs": []
    },
    {
      "cell_type": "code",
      "source": [
        "numpy_matrix = avgword2vec_df_train.to_numpy()\n"
      ],
      "metadata": {
        "id": "3uann2TrR_xn"
      },
      "execution_count": null,
      "outputs": []
    },
    {
      "cell_type": "code",
      "source": [
        "model.fit(X_train, y_train_new, epochs = 2)\n"
      ],
      "metadata": {
        "id": "yDUxp1q9SA-O"
      },
      "execution_count": null,
      "outputs": []
    },
    {
      "cell_type": "code",
      "source": [
        "#Bidirectional LSTM\n",
        "\n",
        "from tensorflow.keras.layers import Bidirectional\n",
        "model = Sequential()\n",
        "\n",
        "model.add(Bidirectional(LSTM(128, input_shape = (avgword2vec_df_train.shape[1], 1), \n",
        "                       activation = 'relu', return_sequences = True)))\n",
        "model.add(Dropout(0.2))\n",
        "\n",
        "model.add(Bidirectional(LSTM(64, activation = 'relu', return_sequences = True)))\n",
        "model.add(Dropout(0.2))\n",
        "\n",
        "model.add(Bidirectional(LSTM(32, activation = 'relu', return_sequences = True)))\n",
        "model.add(Dropout(0.1))\n",
        "\n",
        "model.add(Dense(16, activation = 'relu'))\n",
        "model.add(Dropout(0.1))\n",
        "\n",
        "model.add(Dense(1, activation = 'sigmoid'))\n"
      ],
      "metadata": {
        "id": "xfYNxqXOSCMp"
      },
      "execution_count": null,
      "outputs": []
    },
    {
      "cell_type": "code",
      "source": [
        "opt = tf.keras.optimizers.Adam(learning_rate = 1e-3, epsilon = 1e-7)\n"
      ],
      "metadata": {
        "id": "qiAcf31hSOQt"
      },
      "execution_count": null,
      "outputs": []
    },
    {
      "cell_type": "code",
      "source": [
        "model.compile(optimizer = opt, metrics = ['accuracy'], loss = 'BinaryCrossentropy')\n"
      ],
      "metadata": {
        "id": "OQHUcRy-SPzu"
      },
      "execution_count": null,
      "outputs": []
    },
    {
      "cell_type": "code",
      "source": [
        "model.fit(X_train, y_train_new, epochs = 2)\n"
      ],
      "metadata": {
        "id": "kumlQ_7eSRKt"
      },
      "execution_count": null,
      "outputs": []
    },
    {
      "cell_type": "code",
      "source": [
        "def model_training(train_input, train_output, classifier = None):\n",
        "    \n",
        "    if classifier == \"Logistic Regression\":\n",
        "        model = LogisticRegression()\n",
        "        model.fit(train_input, train_output)\n",
        "        \n",
        "    elif classifier == \"Decision Tree Classifier\":\n",
        "        model = DecisionTreeClassifier()\n",
        "        model.fit(train_input, train_output)\n",
        "        \n",
        "    elif classifier == \"Random Forest Classifier\":\n",
        "        model = RandomForestClassifier()\n",
        "        model.fit(train_input, train_output)\n",
        "        \n",
        "    elif classifier == \"Gradient Boosting Classifier\":\n",
        "        model = GradientBoostingClassifier()\n",
        "        model.fit(train_input, train_output)\n",
        "        \n",
        "    elif classifier == \"Support Vector Classifier\":\n",
        "        model = SVC()\n",
        "        model.fit(train_input, train_output)\n",
        "        \n",
        "    elif classifier == \"Naive Bayes Classifier\":\n",
        "        model = GaussianNB()\n",
        "        model.fit(train_input, train_output)\n",
        "        \n",
        "    elif classifier == \"K Neighbors Classifier\":\n",
        "        model = KNeighborsClassifier()\n",
        "        model.fit(train_input, train_output)\n",
        "    \n",
        "    return model       "
      ],
      "metadata": {
        "id": "yZ2UM5S1SnI_"
      },
      "execution_count": null,
      "outputs": []
    },
    {
      "cell_type": "code",
      "source": [
        "def model_testing(test_input, model, print_results = True):\n",
        "    \n",
        "    y_predictions = model.predict(test_input)\n",
        "    \n",
        "    if print_results == True:\n",
        "        \n",
        "        print(accuracy_score(y_predictions, y_test))\n",
        "        print(confusion_matrix(y_predictions, y_test))\n",
        "        print(classification_report(y_predictions, y_test))\n",
        "    \n",
        "    return y_predictions   "
      ],
      "metadata": {
        "id": "mxRSrdyUS-uK"
      },
      "execution_count": null,
      "outputs": []
    }
  ]
}